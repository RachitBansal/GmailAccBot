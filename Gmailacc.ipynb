{
 "cells": [
  {
   "cell_type": "code",
   "execution_count": 3,
   "metadata": {},
   "outputs": [],
   "source": [
    "from selenium import webdriver\n",
    "import time"
   ]
  },
  {
   "cell_type": "code",
   "execution_count": 5,
   "metadata": {},
   "outputs": [],
   "source": [
    "url = 'https://accounts.google.com/signup/v2/webcreateaccount?service=mail&continue=https%3A%2F%2Fmail.google.com%2Fmail%2F&ltmpl=default&flowName=GlifWebSignIn&flowEntry=SignUp'\n",
    "\n",
    "driver = webdriver.Chrome('/Users/rachitbansal/Downloads/chromedriver')\n",
    "driver.get(url)\n",
    "\n",
    "driver.find_element_by_id('firstName').send_keys('username')\n",
    "\n",
    "time.sleep(2)\n",
    "\n",
    "driver.find_element_by_id('lastName').send_keys('xxx')\n",
    "\n",
    "time.sleep(5)\n",
    "\n",
    "driver.find_element_by_id('username').click()\n",
    "\n",
    "time.sleep(1)\n",
    "\n",
    "#driver.find_element_by_class_name('whsOnd zHQkBf').send_keys('random123')\n",
    "\n",
    "#time.sleep(2)"
   ]
  },
  {
   "cell_type": "code",
   "execution_count": null,
   "metadata": {},
   "outputs": [],
   "source": []
  },
  {
   "cell_type": "code",
   "execution_count": null,
   "metadata": {},
   "outputs": [],
   "source": []
  }
 ],
 "metadata": {
  "kernelspec": {
   "display_name": "Python 3",
   "language": "python",
   "name": "python3"
  },
  "language_info": {
   "codemirror_mode": {
    "name": "ipython",
    "version": 3
   },
   "file_extension": ".py",
   "mimetype": "text/x-python",
   "name": "python",
   "nbconvert_exporter": "python",
   "pygments_lexer": "ipython3",
   "version": "3.6.5"
  }
 },
 "nbformat": 4,
 "nbformat_minor": 2
}
